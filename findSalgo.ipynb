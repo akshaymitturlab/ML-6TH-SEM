{
  "nbformat": 4,
  "nbformat_minor": 0,
  "metadata": {
    "colab": {
      "name": "findSalgo",
      "provenance": [],
      "authorship_tag": "ABX9TyOFc7mJCKZWwibCp1eZ0gfu",
      "include_colab_link": true
    },
    "kernelspec": {
      "name": "python3",
      "display_name": "Python 3"
    }
  },
  "cells": [
    {
      "cell_type": "markdown",
      "metadata": {
        "id": "view-in-github",
        "colab_type": "text"
      },
      "source": [
        "<a href=\"https://colab.research.google.com/github/akshaymitturlab/ML-6TH-SEM/blob/main/findSalgo.ipynb\" target=\"_parent\"><img src=\"https://colab.research.google.com/assets/colab-badge.svg\" alt=\"Open In Colab\"/></a>"
      ]
    },
    {
      "cell_type": "markdown",
      "metadata": {
        "id": "KBQpjiAXdOD1"
      },
      "source": [
        "# Find S Algorithm\n",
        "## Akshay Mittur\n",
        "## 1BM18CS010"
      ]
    },
    {
      "cell_type": "code",
      "metadata": {
        "id": "8G1Zk8XodLxy",
        "colab": {
          "base_uri": "https://localhost:8080/"
        },
        "outputId": "3508cc36-15b1-464d-d3c5-4d8cd711fb77"
      },
      "source": [
        "from  google.colab import drive\n",
        "import pandas as pd \n",
        "import numpy as np\n",
        "import csv\n",
        "\n",
        "drive.mount('/content/gdrive')\n",
        "csv_path = 'gdrive/My Drive/ML-6TH-SEM/week1.csv'"
      ],
      "execution_count": 29,
      "outputs": [
        {
          "output_type": "stream",
          "text": [
            "Drive already mounted at /content/gdrive; to attempt to forcibly remount, call drive.mount(\"/content/gdrive\", force_remount=True).\n"
          ],
          "name": "stdout"
        }
      ]
    },
    {
      "cell_type": "code",
      "metadata": {
        "id": "CNfCPh-oSEoc"
      },
      "source": [
        "#Training function to implement find-s algorithm\n",
        "def train(c,t):\n",
        "    for i, val in enumerate(t):\n",
        "        if val == \"\\'Yes\\'\" or val == 'Yes':\n",
        "            specific_hypothesis = c[i].copy()\n",
        "            break\n",
        "             \n",
        "    for i, val in enumerate(c):\n",
        "        if t[i] == \"\\'Yes\\'\" or t[i] == 'Yes':\n",
        "            for x in range(len(specific_hypothesis)):\n",
        "                if val[x] != specific_hypothesis[x]:\n",
        "                    specific_hypothesis[x] = '?'\n",
        "                else:\n",
        "                    pass\n",
        "                 \n",
        "    return specific_hypothesis"
      ],
      "execution_count": 27,
      "outputs": []
    },
    {
      "cell_type": "code",
      "metadata": {
        "colab": {
          "base_uri": "https://localhost:8080/"
        },
        "id": "eCq3IIt9TYDE",
        "outputId": "847c29d1-f6c9-44f1-acb6-33e13da2f499"
      },
      "source": [
        "#Input tuples\n",
        "d = [['Sunny', 'Hot', 'Dry', ' Afternoon'],\n",
        "     ['Rainy', 'Cold', 'Humid', ' Evening'], \n",
        "     ['Overcast', 'Hot', 'Dry', 'Morning'], \n",
        "     ['Sunny', 'Hot', 'Humid', ' Afternoon']]\n",
        "\n",
        "target = ['Yes', 'No', 'Yes', 'No']\n",
        "print(\"The final hypothesis is: <\", ','.join(train(d, target)), \">\")\n",
        "\n",
        "#Input from csv\n",
        "data = pd.read_csv(csv_path)\n",
        "d = np.array(data)[:,:-1]\n",
        "target = np.array(data)[:,-1]\n",
        "\n",
        "print(\"The final hypothesis is: <\", ','.join(train(d, target)), \">\")"
      ],
      "execution_count": 30,
      "outputs": [
        {
          "output_type": "stream",
          "text": [
            "The final hypothesis is: < ?,Hot,Dry,? >\n",
            "The final hypothesis is: < ?,Hot,Dry,? >\n"
          ],
          "name": "stdout"
        }
      ]
    }
  ]
}