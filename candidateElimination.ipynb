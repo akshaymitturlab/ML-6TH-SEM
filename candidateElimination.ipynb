{
  "nbformat": 4,
  "nbformat_minor": 0,
  "metadata": {
    "colab": {
      "name": "candidateElimination.ipynb",
      "provenance": [],
      "toc_visible": true,
      "authorship_tag": "ABX9TyNTqvDoHFJYKo3fY9HsSMKw",
      "include_colab_link": true
    },
    "kernelspec": {
      "name": "python3",
      "display_name": "Python 3"
    },
    "language_info": {
      "name": "python"
    }
  },
  "cells": [
    {
      "cell_type": "markdown",
      "metadata": {
        "id": "view-in-github",
        "colab_type": "text"
      },
      "source": [
        "<a href=\"https://colab.research.google.com/github/akshaymitturlab/ML-6TH-SEM/blob/main/candidateElimination.ipynb\" target=\"_parent\"><img src=\"https://colab.research.google.com/assets/colab-badge.svg\" alt=\"Open In Colab\"/></a>"
      ]
    },
    {
      "cell_type": "markdown",
      "metadata": {
        "id": "oQoaCxj-WhqW"
      },
      "source": [
        "# Candidate Elimination Algorithm\n",
        "## Akshay Mittur\n",
        "## 1BM18CS010"
      ]
    },
    {
      "cell_type": "code",
      "metadata": {
        "id": "IZIczAjhWYup"
      },
      "source": [
        "import pandas as pd \n",
        "import numpy as np\n",
        "import csv"
      ],
      "execution_count": 7,
      "outputs": []
    },
    {
      "cell_type": "code",
      "metadata": {
        "colab": {
          "base_uri": "https://localhost:8080/"
        },
        "id": "fg8uIPu2aLJd",
        "outputId": "4b640029-ccd2-4e26-f321-8dbf69ab745d"
      },
      "source": [
        "#Initialising input\n",
        "data = pd.read_csv('week2.csv')\n",
        "d = np.array(data.iloc[:,0:-1])\n",
        "print(\"\\nInstances are:\\n\",d)\n",
        "target = np.array(data.iloc[:,-1])\n",
        "print(\"\\nTarget Values are: \",target)"
      ],
      "execution_count": 8,
      "outputs": [
        {
          "output_type": "stream",
          "text": [
            "\n",
            "Instances are:\n",
            " [['Sunny' 'Hot' 'Dry' 'Afternoon']\n",
            " ['Rainy' 'Cold' 'Humid' 'Evening']\n",
            " ['Overcast' 'Hot' 'Dry' 'Morning']\n",
            " ['Sunny' 'Hot' 'Humid' 'Afternoon']]\n",
            "\n",
            "Target Values are:  ['Yes' 'No' 'Yes' 'No']\n"
          ],
          "name": "stdout"
        }
      ]
    },
    {
      "cell_type": "code",
      "metadata": {
        "colab": {
          "base_uri": "https://localhost:8080/"
        },
        "id": "JN88FZTRWg3v",
        "outputId": "666f1c31-27ab-4bd4-8d4e-f4f15321d950"
      },
      "source": [
        "#Training function to implement candidate elimination algorithm\n",
        "def learn(d, target): \n",
        "    specific_h = d[0].copy()\n",
        "    print(\"\\nSpecific Hypothesis: \", specific_h)\n",
        "    general_h = [[\"?\" for i in range(len(specific_h))] for i in range(len(specific_h))]\n",
        "    print(\"\\nGeneric Hypothesis: \",general_h)  \n",
        "\n",
        "    for i, h in enumerate(d):\n",
        "        print(\"\\nIteration\", i+1 , \"is \", h)\n",
        "        if target[i] == \"Yes\":\n",
        "            print(\"Instance is Positive \")\n",
        "            for x in range(len(specific_h)): \n",
        "                if h[x]!= specific_h[x]:                    \n",
        "                    specific_h[x] ='?'                     \n",
        "                    general_h[x][x] ='?'\n",
        "                   \n",
        "        if target[i] == \"No\":            \n",
        "            print(\"Instance is Negative \")\n",
        "            for x in range(len(specific_h)): \n",
        "                if h[x]!= specific_h[x]:                    \n",
        "                    general_h[x][x] = specific_h[x]                \n",
        "                else:                    \n",
        "                    general_h[x][x] = '?'        \n",
        "        \n",
        "        print(\"Specific Hypothesis after \", i+1, \"Instance is \", specific_h)         \n",
        "        print(\"Generic Hypothesis after \", i+1, \"Instance is \", general_h)\n",
        "        print(\"\\n\")\n",
        "\n",
        "    indices = [i for i, val in enumerate(general_h) if val == ['?', '?', '?', '?', '?', '?']]    \n",
        "    for i in indices:   \n",
        "        general_h.remove(['?', '?', '?', '?', '?', '?']) \n",
        "    return specific_h, general_h "
      ],
      "execution_count": 13,
      "outputs": [
        {
          "output_type": "stream",
          "text": [
            "\n",
            "Specific Hypothesis:  ['Sunny' 'Hot' 'Dry' 'Afternoon']\n",
            "\n",
            "Generic Hypothesis:  [['?', '?', '?', '?'], ['?', '?', '?', '?'], ['?', '?', '?', '?'], ['?', '?', '?', '?']]\n",
            "\n",
            "Iteration 1 is  ['Sunny' 'Hot' 'Dry' 'Afternoon']\n",
            "Instance is Positive \n",
            "Specific Hypothesis after  1 Instance is  ['Sunny' 'Hot' 'Dry' 'Afternoon']\n",
            "Generic Hypothesis after  1 Instance is  [['?', '?', '?', '?'], ['?', '?', '?', '?'], ['?', '?', '?', '?'], ['?', '?', '?', '?']]\n",
            "\n",
            "\n",
            "\n",
            "Iteration 2 is  ['Rainy' 'Cold' 'Humid' 'Evening']\n",
            "Instance is Negative \n",
            "Specific Hypothesis after  2 Instance is  ['Sunny' 'Hot' 'Dry' 'Afternoon']\n",
            "Generic Hypothesis after  2 Instance is  [['Sunny', '?', '?', '?'], ['?', 'Hot', '?', '?'], ['?', '?', 'Dry', '?'], ['?', '?', '?', 'Afternoon']]\n",
            "\n",
            "\n",
            "\n",
            "Iteration 3 is  ['Overcast' 'Hot' 'Dry' 'Morning']\n",
            "Instance is Positive \n",
            "Specific Hypothesis after  3 Instance is  ['?' 'Hot' 'Dry' '?']\n",
            "Generic Hypothesis after  3 Instance is  [['?', '?', '?', '?'], ['?', 'Hot', '?', '?'], ['?', '?', 'Dry', '?'], ['?', '?', '?', '?']]\n",
            "\n",
            "\n",
            "\n",
            "Iteration 4 is  ['Sunny' 'Hot' 'Humid' 'Afternoon']\n",
            "Instance is Negative \n",
            "Specific Hypothesis after  4 Instance is  ['?' 'Hot' 'Dry' '?']\n",
            "Generic Hypothesis after  4 Instance is  [['?', '?', '?', '?'], ['?', '?', '?', '?'], ['?', '?', 'Dry', '?'], ['?', '?', '?', '?']]\n",
            "\n",
            "\n",
            "Final Specific Hypothesis: \n",
            "['?' 'Hot' 'Dry' '?']\n",
            "Final General Hypothesis: \n",
            "[['?', '?', '?', '?'], ['?', '?', '?', '?'], ['?', '?', 'Dry', '?'], ['?', '?', '?', '?']]\n"
          ],
          "name": "stdout"
        }
      ]
    },
    {
      "cell_type": "code",
      "metadata": {
        "colab": {
          "base_uri": "https://localhost:8080/"
        },
        "id": "xzU-YmKwcGnH",
        "outputId": "fb50c6ba-33a3-4c2f-f5a6-6dbe854bde3f"
      },
      "source": [
        "#Solution\n",
        "specific, general = learn(d, target)\n",
        "\n",
        "print(\"Final Specific Hypothesis: \", '<', ', '.join(specific),'>')\n",
        "print(\"Final General Hypothesis: \")\n",
        "for i in general:\n",
        "  print('<', ', '.join(i),'>, ')"
      ],
      "execution_count": 22,
      "outputs": [
        {
          "output_type": "stream",
          "text": [
            "\n",
            "Specific Hypothesis:  ['Sunny' 'Hot' 'Dry' 'Afternoon']\n",
            "\n",
            "Generic Hypothesis:  [['?', '?', '?', '?'], ['?', '?', '?', '?'], ['?', '?', '?', '?'], ['?', '?', '?', '?']]\n",
            "\n",
            "Iteration 1 is  ['Sunny' 'Hot' 'Dry' 'Afternoon']\n",
            "Instance is Positive \n",
            "Specific Hypothesis after  1 Instance is  ['Sunny' 'Hot' 'Dry' 'Afternoon']\n",
            "Generic Hypothesis after  1 Instance is  [['?', '?', '?', '?'], ['?', '?', '?', '?'], ['?', '?', '?', '?'], ['?', '?', '?', '?']]\n",
            "\n",
            "\n",
            "\n",
            "Iteration 2 is  ['Rainy' 'Cold' 'Humid' 'Evening']\n",
            "Instance is Negative \n",
            "Specific Hypothesis after  2 Instance is  ['Sunny' 'Hot' 'Dry' 'Afternoon']\n",
            "Generic Hypothesis after  2 Instance is  [['Sunny', '?', '?', '?'], ['?', 'Hot', '?', '?'], ['?', '?', 'Dry', '?'], ['?', '?', '?', 'Afternoon']]\n",
            "\n",
            "\n",
            "\n",
            "Iteration 3 is  ['Overcast' 'Hot' 'Dry' 'Morning']\n",
            "Instance is Positive \n",
            "Specific Hypothesis after  3 Instance is  ['?' 'Hot' 'Dry' '?']\n",
            "Generic Hypothesis after  3 Instance is  [['?', '?', '?', '?'], ['?', 'Hot', '?', '?'], ['?', '?', 'Dry', '?'], ['?', '?', '?', '?']]\n",
            "\n",
            "\n",
            "\n",
            "Iteration 4 is  ['Sunny' 'Hot' 'Humid' 'Afternoon']\n",
            "Instance is Negative \n",
            "Specific Hypothesis after  4 Instance is  ['?' 'Hot' 'Dry' '?']\n",
            "Generic Hypothesis after  4 Instance is  [['?', '?', '?', '?'], ['?', '?', '?', '?'], ['?', '?', 'Dry', '?'], ['?', '?', '?', '?']]\n",
            "\n",
            "\n",
            "Final Specific Hypothesis:  < ?, Hot, Dry, ? >\n",
            "Final General Hypothesis: \n",
            "< ?, ?, ?, ? >, \n",
            "< ?, ?, ?, ? >, \n",
            "< ?, ?, Dry, ? >, \n",
            "< ?, ?, ?, ? >, \n"
          ],
          "name": "stdout"
        }
      ]
    }
  ]
}