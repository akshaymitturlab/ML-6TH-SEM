{
  "nbformat": 4,
  "nbformat_minor": 0,
  "metadata": {
    "colab": {
      "name": "findSalgo",
      "provenance": [],
      "authorship_tag": "ABX9TyP2SM8Sous5p94F0UsKMMfB",
      "include_colab_link": true
    },
    "kernelspec": {
      "name": "python3",
      "display_name": "Python 3"
    }
  },
  "cells": [
    {
      "cell_type": "markdown",
      "metadata": {
        "id": "view-in-github",
        "colab_type": "text"
      },
      "source": [
        "<a href=\"https://colab.research.google.com/github/akshaymitturlab/ML-6TH-SEM/blob/main/week1_findSalgo.ipynb\" target=\"_parent\"><img src=\"https://colab.research.google.com/assets/colab-badge.svg\" alt=\"Open In Colab\"/></a>"
      ]
    },
    {
      "cell_type": "code",
      "metadata": {
        "id": "CNfCPh-oSEoc"
      },
      "source": [
        "#Find S Algorithm\n",
        "\n",
        "#Training function to implement find-s algorithm\n",
        "def train(c,t):\n",
        "    for i, val in enumerate(t):\n",
        "        if val == \"Yes\":\n",
        "            specific_hypothesis = c[i].copy()\n",
        "            break\n",
        "             \n",
        "    for i, val in enumerate(c):\n",
        "        if t[i] == \"Yes\":\n",
        "            for x in range(len(specific_hypothesis)):\n",
        "                if val[x] != specific_hypothesis[x]:\n",
        "                    specific_hypothesis[x] = '?'\n",
        "                else:\n",
        "                    pass\n",
        "                 \n",
        "    return specific_hypothesis"
      ],
      "execution_count": 4,
      "outputs": []
    },
    {
      "cell_type": "code",
      "metadata": {
        "colab": {
          "base_uri": "https://localhost:8080/"
        },
        "id": "eCq3IIt9TYDE",
        "outputId": "4020d9ca-2958-40bd-a39b-e500afe80a8c"
      },
      "source": [
        "#Input tuples\n",
        "d = [['Sunny', 'Hot', 'Dry', ' Afternoon'],\n",
        "     ['Rainy', 'Cold', 'Humid', ' Evening'], \n",
        "     ['Overcast', 'Hot', 'Dry', 'Morning'], \n",
        "     ['Sunny', 'Hot', 'Humid', ' Afternoon']]\n",
        "\n",
        "target = ['Yes', 'No', 'Yes', 'No']\n",
        "\n",
        "#Obtaining the final hypothesis\n",
        "print(\"The final hypothesis is:\",train(d,target))\n"
      ],
      "execution_count": 9,
      "outputs": [
        {
          "output_type": "stream",
          "text": [
            "The final hypothesis is: ['?', 'Hot', 'Dry', '?']\n"
          ],
          "name": "stdout"
        }
      ]
    }
  ]
}