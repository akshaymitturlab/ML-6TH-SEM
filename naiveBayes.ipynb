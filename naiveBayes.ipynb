{
  "nbformat": 4,
  "nbformat_minor": 0,
  "metadata": {
    "colab": {
      "name": "naiveBayes.ipynb",
      "provenance": [],
      "toc_visible": true
    },
    "kernelspec": {
      "name": "python3",
      "display_name": "Python 3"
    },
    "language_info": {
      "name": "python"
    }
  },
  "cells": [
    {
      "cell_type": "markdown",
      "metadata": {
        "id": "rfiJ5PcrezP4"
      },
      "source": [
        "# Naive Bayes Classifier Algorithm\n",
        "# Akshay Mittur\n",
        "# 1BM18CS010"
      ]
    },
    {
      "cell_type": "code",
      "metadata": {
        "colab": {
          "base_uri": "https://localhost:8080/"
        },
        "id": "uzGTqN56ethD",
        "outputId": "ce3c8571-a47c-4ca4-bdec-5399cff4d375"
      },
      "source": [
        "import pandas as pd\n",
        "from sklearn.model_selection import train_test_split\n",
        "from sklearn.naive_bayes import GaussianNB\n",
        "from sklearn import metrics\n",
        "\n",
        "df = pd.read_csv(\"pima_indian.csv\")\n",
        "feature_col_names = ['num_preg', 'glucose_conc', 'diastolic_bp', 'thickness', 'insulin', 'bmi', 'diab_pred', 'age']\n",
        "predicted_class_names = ['diabetes']\n",
        "\n",
        "X = df[feature_col_names].values # these are factors for the prediction\n",
        "y = df[predicted_class_names].values # this is what we want to predict\n",
        "\n",
        "#splitting the dataset into train and test data\n",
        "\n",
        "xtrain,xtest,ytrain,ytest=train_test_split(X,y,test_size=0.33)\n",
        "\n",
        "print ('\\n the total number of Training Data :',ytrain.shape)\n",
        "print ('\\n the total number of Test Data :',ytest.shape)\n",
        "\n",
        "\n",
        "# Training Naive Bayes (NB) classifier on training data.\n",
        "\n",
        "clf = GaussianNB().fit(xtrain,ytrain.ravel())\n",
        "predicted = clf.predict(xtest)\n",
        "predictTestData= clf.predict([[6,148,72,35,0,33.6,0.627,50]])\n",
        "\n",
        "#printing Confusion matrix, accuracy, Precision and Recall\n",
        "\n",
        "print('\\n Confusion matrix')\n",
        "print(metrics.confusion_matrix(ytest,predicted))\n",
        "\n",
        "print('\\n Accuracy of the classifier is',metrics.accuracy_score(ytest,predicted))\n",
        "\n",
        "print('\\n The value of Precision', metrics.precision_score(ytest,predicted))\n",
        "\n",
        "print('\\n The value of Recall', metrics.recall_score(ytest,predicted))\n",
        "\n",
        "print(\"Predicted Value for individual Test Data:\", predictTestData)"
      ],
      "execution_count": 6,
      "outputs": [
        {
          "output_type": "stream",
          "text": [
            "\n",
            " the total number of Training Data : (514, 1)\n",
            "\n",
            " the total number of Test Data : (254, 1)\n",
            "\n",
            " Confusion matrix\n",
            "[[134  30]\n",
            " [ 23  67]]\n",
            "\n",
            " Accuracy of the classifier is 0.7913385826771654\n",
            "\n",
            " The value of Precision 0.6907216494845361\n",
            "\n",
            " The value of Recall 0.7444444444444445\n",
            "Predicted Value for individual Test Data: [1]\n"
          ],
          "name": "stdout"
        }
      ]
    }
  ]
}